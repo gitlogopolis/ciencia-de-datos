{
 "cells": [
  {
   "cell_type": "code",
   "execution_count": 2,
   "id": "3ae86e73",
   "metadata": {},
   "outputs": [],
   "source": [
    "import pandas as pd\n",
    "import numpy as np\n",
    "from sklearn.linear_model import LogisticRegression\n",
    "from sklearn.metrics import confusion_matrix\n",
    "import matplotlib.pyplot as plt"
   ]
  },
  {
   "cell_type": "code",
   "execution_count": 3,
   "id": "d7956732",
   "metadata": {},
   "outputs": [],
   "source": [
    "df = pd.read_csv(\"C:/Users/FERNANDO LOPEZ/Documents/base_datos_2008.csv\") "
   ]
  },
  {
   "cell_type": "code",
   "execution_count": 10,
   "id": "21212f28",
   "metadata": {},
   "outputs": [],
   "source": [
    "df = df.dropna(subset = [\"ArrDelay\"])  # se eliminan datos faltantes de la variable respuesta\n",
    "df = df.sample(frac=1).head(100000)  # se seleccionan 100000 datos de una fracción aleatoria\n",
    "Y = df[\"ArrDelay\"] < 30 # Los valores con 1 son los vuelos sin retraso notable\n",
    "X = df[[\"DepDelay\"]] # Retraso de la salida"
   ]
  },
  {
   "cell_type": "code",
   "execution_count": 12,
   "id": "6de6d205",
   "metadata": {},
   "outputs": [],
   "source": [
    "logreg = LogisticRegression() #Se crea el modelo\n",
    "logreg.fit(X,Y) #Ajusta el modelo\n",
    "\n",
    "Y_pred = logreg.predict(X) #Realiza la prediccion"
   ]
  },
  {
   "cell_type": "code",
   "execution_count": 14,
   "id": "08b37f01",
   "metadata": {},
   "outputs": [
    {
     "data": {
      "text/plain": [
       "array([[0.018, 0.982],\n",
       "       [0.198, 0.802],\n",
       "       [0.011, 0.989],\n",
       "       ...,\n",
       "       [0.117, 0.883],\n",
       "       [0.014, 0.986],\n",
       "       [0.018, 0.982]])"
      ]
     },
     "execution_count": 14,
     "metadata": {},
     "output_type": "execute_result"
    }
   ],
   "source": [
    "np.round(logreg.predict_proba(X),3) #Obtiene probabilidades"
   ]
  },
  {
   "cell_type": "code",
   "execution_count": 15,
   "id": "c77fd02f",
   "metadata": {},
   "outputs": [
    {
     "data": {
      "text/plain": [
       "0.95665"
      ]
     },
     "execution_count": 15,
     "metadata": {},
     "output_type": "execute_result"
    }
   ],
   "source": [
    "np.mean(Y_pred == Y) # En este caso el 95% de las predicciones son correctas"
   ]
  },
  {
   "cell_type": "code",
   "execution_count": 16,
   "id": "f0719856",
   "metadata": {},
   "outputs": [
    {
     "data": {
      "text/plain": [
       "0.86448"
      ]
     },
     "execution_count": 16,
     "metadata": {},
     "output_type": "execute_result"
    }
   ],
   "source": [
    "np.mean(Y) # Con este modelo se acierta el 86% de los casos porque se tiene un balance de categorias bastante simétrico"
   ]
  },
  {
   "cell_type": "code",
   "execution_count": 17,
   "id": "7eeeb1d2",
   "metadata": {},
   "outputs": [
    {
     "name": "stdout",
     "output_type": "stream",
     "text": [
      "[[10259  3293]\n",
      " [ 1042 85406]]\n"
     ]
    }
   ],
   "source": [
    "confusion_matrix = confusion_matrix(Y, Y_pred) # matriz muy util si se esta evaluando como de bien predice el modelo\n",
    "print(confusion_matrix)"
   ]
  },
  {
   "cell_type": "code",
   "execution_count": null,
   "id": "ee45db0c",
   "metadata": {},
   "outputs": [],
   "source": []
  }
 ],
 "metadata": {
  "kernelspec": {
   "display_name": "Python 3 (ipykernel)",
   "language": "python",
   "name": "python3"
  },
  "language_info": {
   "codemirror_mode": {
    "name": "ipython",
    "version": 3
   },
   "file_extension": ".py",
   "mimetype": "text/x-python",
   "name": "python",
   "nbconvert_exporter": "python",
   "pygments_lexer": "ipython3",
   "version": "3.9.12"
  }
 },
 "nbformat": 4,
 "nbformat_minor": 5
}
