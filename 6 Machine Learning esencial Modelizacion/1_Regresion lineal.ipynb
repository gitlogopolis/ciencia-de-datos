{
 "cells": [
  {
   "cell_type": "code",
   "execution_count": 1,
   "id": "cdf371c8",
   "metadata": {},
   "outputs": [],
   "source": [
    "import pandas as pd\n",
    "import numpy as np\n",
    "from sklearn import datasets, linear_model\n",
    "from sklearn.metrics import mean_squared_error, r2_score\n",
    "import matplotlib.pyplot as plt\n",
    "%matplotlib inline\n",
    "\n",
    "df = pd.read_csv(\"C:/Users/FERNANDO LOPEZ/Documents/base_datos_2008.csv\") "
   ]
  },
  {
   "cell_type": "code",
   "execution_count": 2,
   "id": "6bc7c8ed",
   "metadata": {},
   "outputs": [],
   "source": [
    "df = df.dropna(subset = [\"ArrDelay\"]) #Eliminar los datos faltantes de la variable respuesta\n",
    "df = df.sample(frac=1).head(100000) #Seleccionamos un subset de 10000 línea\n",
    "Y = df[\"ArrDelay\"]  #Vamos a intentar predecir la variable respuesta -> retraso en la llegada\n",
    "X = df[[\"DepDelay\"]]  #a traves del retraso en la salida"
   ]
  },
  {
   "cell_type": "code",
   "execution_count": 3,
   "id": "5ea12303",
   "metadata": {},
   "outputs": [
    {
     "data": {
      "text/plain": [
       "Index(['Year', 'Month', 'DayofMonth', 'DayOfWeek', 'DepTime', 'CRSDepTime',\n",
       "       'ArrTime', 'CRSArrTime', 'UniqueCarrier', 'FlightNum', 'TailNum',\n",
       "       'ActualElapsedTime', 'CRSElapsedTime', 'AirTime', 'ArrDelay',\n",
       "       'DepDelay', 'Origin', 'Dest', 'Distance', 'TaxiIn', 'TaxiOut',\n",
       "       'Cancelled', 'CancellationCode', 'Diverted', 'CarrierDelay',\n",
       "       'WeatherDelay', 'NASDelay', 'SecurityDelay', 'LateAircraftDelay'],\n",
       "      dtype='object')"
      ]
     },
     "execution_count": 3,
     "metadata": {},
     "output_type": "execute_result"
    }
   ],
   "source": [
    "df.columns"
   ]
  },
  {
   "cell_type": "code",
   "execution_count": 4,
   "id": "f1696020",
   "metadata": {},
   "outputs": [
    {
     "name": "stdout",
     "output_type": "stream",
     "text": [
      "Coeficientes:  [1.02005339]\n",
      "R cuadrado:  0.8660840762892914\n"
     ]
    }
   ],
   "source": [
    "regr = linear_model.LinearRegression()  #Ajustar el modelo\n",
    "regr.fit(X, Y)  #Se ajusta con X y Y\n",
    "\n",
    "print(\"Coeficientes: \", regr.coef_)  #Imprime los coeficientes\n",
    "Y_pred = regr.predict(X)  #Encontramo el valor que genera el modelo, osea nuestras predicciones\n",
    "print(\"R cuadrado: \", r2_score(Y, Y_pred)) #El coeficiente de determinación (R cuadrado) es la proporción de la varianza total de la variable explicada por la regresión\n",
    "# Cuando el modelo es más próximo a 1 tenemos un modelo mejor y prox. a 0 menos explicativo"
   ]
  },
  {
   "cell_type": "code",
   "execution_count": 5,
   "id": "50821980",
   "metadata": {},
   "outputs": [
    {
     "data": {
      "image/png": "[encoded data removed]",
      "text/plain": [
       "<Figure size 432x288 with 1 Axes>"
      ]
     },
     "metadata": {
      "needs_background": "light"
     },
     "output_type": "display_data"
    }
   ],
   "source": [
    "plt.scatter(X[1:10000], Y[1:10000], color = \"black\")\n",
    "plt.scatter(X[1:10000], Y_pred[1:10000], color='blue')\n",
    "plt.show()"
   ]
  },
  {
   "cell_type": "code",
   "execution_count": 6,
   "id": "7a3758b9",
   "metadata": {},
   "outputs": [],
   "source": [
    "X = df[['AirTime', 'Distance', 'TaxiIn', 'TaxiOut']]\n",
    "\n",
    "df[\"Month\"] = df[\"Month\"].apply(str)\n",
    "df[\"DayofMonth\"] = df[\"DayofMonth\"].apply(str)\n",
    "df[\"DayOfWeek\"] = df[\"DayOfWeek\"].apply(str)\n",
    "\n",
    "dummies = pd.get_dummies(data=df[['Month','DayofMonth', 'DayOfWeek', 'Origin', 'Dest']])\n",
    "X = dummies.add(X,fill_value=0)"
   ]
  },
  {
   "cell_type": "code",
   "execution_count": 7,
   "id": "d7e64774",
   "metadata": {},
   "outputs": [
    {
     "data": {
      "text/plain": [
       "Index(['AirTime', 'DayOfWeek_1', 'DayOfWeek_2', 'DayOfWeek_3', 'DayOfWeek_4',\n",
       "       'DayOfWeek_5', 'DayOfWeek_6', 'DayOfWeek_7', 'DayofMonth_1',\n",
       "       'DayofMonth_10',\n",
       "       ...\n",
       "       'Origin_VLD', 'Origin_VPS', 'Origin_WRG', 'Origin_WYS', 'Origin_XNA',\n",
       "       'Origin_YAK', 'Origin_YKM', 'Origin_YUM', 'TaxiIn', 'TaxiOut'],\n",
       "      dtype='object', length=652)"
      ]
     },
     "execution_count": 7,
     "metadata": {},
     "output_type": "execute_result"
    }
   ],
   "source": [
    "X.columns"
   ]
  },
  {
   "cell_type": "code",
   "execution_count": 8,
   "id": "82654078",
   "metadata": {},
   "outputs": [
    {
     "name": "stdout",
     "output_type": "stream",
     "text": [
      "R cuadrado:  0.1841645919305106\n"
     ]
    }
   ],
   "source": [
    "regr = linear_model.LinearRegression()\n",
    "regr.fit(X, Y)\n",
    "\n",
    "Y_pred = regr.predict(X)\n",
    "print(\"R cuadrado: \", r2_score(Y, Y_pred))"
   ]
  },
  {
   "cell_type": "code",
   "execution_count": 9,
   "id": "333d0fb5",
   "metadata": {},
   "outputs": [],
   "source": [
    "X = X.add(df[[\"DepDelay\"]], fill_value=0)"
   ]
  },
  {
   "cell_type": "code",
   "execution_count": 10,
   "id": "d5ca0167",
   "metadata": {},
   "outputs": [
    {
     "name": "stdout",
     "output_type": "stream",
     "text": [
      "R cuadrado:  0.9721020864587897\n"
     ]
    }
   ],
   "source": [
    "regr = linear_model.LinearRegression()\n",
    "regr.fit(X, Y)\n",
    "\n",
    "Y_pred = regr.predict(X)\n",
    "print(\"R cuadrado: \",r2_score(Y, Y_pred))"
   ]
  },
  {
   "cell_type": "code",
   "execution_count": null,
   "id": "6bc22384",
   "metadata": {},
   "outputs": [],
   "source": []
  }
 ],
 "metadata": {
  "kernelspec": {
   "display_name": "Python 3 (ipykernel)",
   "language": "python",
   "name": "python3"
  },
  "language_info": {
   "codemirror_mode": {
    "name": "ipython",
    "version": 3
   },
   "file_extension": ".py",
   "mimetype": "text/x-python",
   "name": "python",
   "nbconvert_exporter": "python",
   "pygments_lexer": "ipython3",
   "version": "3.9.12"
  }
 },
 "nbformat": 4,
 "nbformat_minor": 5
}
