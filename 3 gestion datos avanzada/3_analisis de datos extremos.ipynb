{
 "cells": [
  {
   "cell_type": "code",
   "execution_count": 1,
   "id": "bda1c91d",
   "metadata": {},
   "outputs": [],
   "source": [
    "import pandas as pd\n",
    "import numpy as np\n",
    "df = pd.read_csv(\"C:/Users/FERNANDO LOPEZ/Documents/base_datos_2008.csv\", nrows = 100000) #Número de filas de archivo a leer."
   ]
  },
  {
   "cell_type": "code",
   "execution_count": 2,
   "id": "10630287",
   "metadata": {},
   "outputs": [],
   "source": [
    "x = df[\"ArrDelay\"].dropna()"
   ]
  },
  {
   "cell_type": "code",
   "execution_count": 3,
   "id": "014cad92",
   "metadata": {},
   "outputs": [],
   "source": [
    "#Sacar Cuartiles\n",
    "Q1 = np.percentile(x,25)\n",
    "Q3 = np.percentile(x,75)\n",
    "rangointer = Q3 - Q1 #Rango intercuartilico"
   ]
  },
  {
   "cell_type": "code",
   "execution_count": 4,
   "id": "f7cce286",
   "metadata": {},
   "outputs": [],
   "source": [
    "umbralsuperior = Q3 + 1.5*rangointer\n",
    "umbralinferior = Q1 - 1.5*rangointer"
   ]
  },
  {
   "cell_type": "code",
   "execution_count": 5,
   "id": "d607fc05",
   "metadata": {},
   "outputs": [
    {
     "data": {
      "text/plain": [
       "38.5"
      ]
     },
     "execution_count": 5,
     "metadata": {},
     "output_type": "execute_result"
    }
   ],
   "source": [
    "umbralsuperior"
   ]
  },
  {
   "cell_type": "code",
   "execution_count": 6,
   "id": "03f19ab4",
   "metadata": {},
   "outputs": [
    {
     "data": {
      "text/plain": [
       "-37.5"
      ]
     },
     "execution_count": 6,
     "metadata": {},
     "output_type": "execute_result"
    }
   ],
   "source": [
    "umbralinferior"
   ]
  },
  {
   "cell_type": "code",
   "execution_count": 7,
   "id": "d42d36ac",
   "metadata": {},
   "outputs": [
    {
     "data": {
      "text/plain": [
       "0.08387201361729721"
      ]
     },
     "execution_count": 7,
     "metadata": {},
     "output_type": "execute_result"
    }
   ],
   "source": [
    "np.mean(x>umbralsuperior)"
   ]
  },
  {
   "cell_type": "code",
   "execution_count": 8,
   "id": "011c2c40",
   "metadata": {},
   "outputs": [
    {
     "data": {
      "text/plain": [
       "0.0019048005025431114"
      ]
     },
     "execution_count": 8,
     "metadata": {},
     "output_type": "execute_result"
    }
   ],
   "source": [
    "np.mean(x<umbralinferior)"
   ]
  },
  {
   "cell_type": "code",
   "execution_count": 9,
   "id": "ef78228d",
   "metadata": {},
   "outputs": [],
   "source": [
    "from sklearn.covariance import EllipticEnvelope"
   ]
  },
  {
   "cell_type": "code",
   "execution_count": 10,
   "id": "4b93934c",
   "metadata": {},
   "outputs": [],
   "source": [
    "outliers = EllipticEnvelope(contamination = 0.01) #Crea un modelo que selecciona el 1% de datos que considere que esta muy alejado"
   ]
  },
  {
   "cell_type": "code",
   "execution_count": 11,
   "id": "8a1a5a43",
   "metadata": {},
   "outputs": [],
   "source": [
    "var_list = [\"DepDelay\",\"TaxiIn\",\"TaxiOut\",\"CarrierDelay\",\"WeatherDelay\",\"NASDelay\",\"SecurityDelay\",\"LateAircraftDelay\"]"
   ]
  },
  {
   "cell_type": "code",
   "execution_count": 12,
   "id": "5d4f25b2",
   "metadata": {},
   "outputs": [],
   "source": [
    "x = np.array(df.loc[:,var_list].dropna())\n"
   ]
  },
  {
   "cell_type": "code",
   "execution_count": 13,
   "id": "30722523",
   "metadata": {},
   "outputs": [
    {
     "data": {
      "text/plain": [
       "EllipticEnvelope(contamination=0.01)"
      ]
     },
     "execution_count": 13,
     "metadata": {},
     "output_type": "execute_result"
    }
   ],
   "source": [
    "outliers.fit(x)\n"
   ]
  },
  {
   "cell_type": "code",
   "execution_count": 14,
   "id": "f9bd49eb",
   "metadata": {},
   "outputs": [],
   "source": [
    "pred = outliers.predict(x)\n"
   ]
  },
  {
   "cell_type": "code",
   "execution_count": 15,
   "id": "1a809d29",
   "metadata": {},
   "outputs": [
    {
     "data": {
      "text/plain": [
       "array([1, 1, 1, ..., 1, 1, 1])"
      ]
     },
     "execution_count": 15,
     "metadata": {},
     "output_type": "execute_result"
    }
   ],
   "source": [
    "pred  # pred ES UN ARRAY DE 1's"
   ]
  },
  {
   "cell_type": "code",
   "execution_count": 19,
   "id": "8878cd3f",
   "metadata": {},
   "outputs": [],
   "source": [
    "elips_outliers = np.where(pred == -1)[0] "
   ]
  },
  {
   "cell_type": "code",
   "execution_count": 20,
   "id": "f3eee744",
   "metadata": {},
   "outputs": [
    {
     "data": {
      "text/plain": [
       "array([  444,  1161,  1188,  1191,  1412,  1418,  1503,  1634,  1911,\n",
       "        1914,  2005,  2082,  2120,  2123,  2145,  2539,  2612,  2613,\n",
       "        2725,  2771,  2937,  3120,  3589,  4146,  4265,  4430,  4437,\n",
       "        4488,  4512,  4621,  4676,  4725,  5772,  5996,  5997,  6329,\n",
       "        6358,  6515,  7245,  7257,  7460,  7480,  7481,  7620,  7698,\n",
       "        7701,  7702,  7703,  7707,  7715,  8098,  8130,  8267,  8294,\n",
       "        8298,  8327,  8484,  8566,  8683,  8691,  8865,  8993,  9922,\n",
       "       10216, 10250, 10280, 10469, 10618, 10681, 10720, 10910, 11021,\n",
       "       11231, 11237, 11242, 11316, 11955, 12085, 12088, 12240, 12452,\n",
       "       12513, 12607, 12700, 12905, 12927, 12934, 13275, 13276, 13278,\n",
       "       14259, 14282, 14285, 14297, 14318, 14358, 14367, 14510, 14544,\n",
       "       14557, 14558, 14647, 14658, 14785, 14789, 14792, 14831, 14858,\n",
       "       14870, 14871, 14880, 14881, 14940, 14945, 14946, 14947, 14948,\n",
       "       14988, 15008, 15009, 15029, 15086, 15150, 15192, 15195, 15196,\n",
       "       15197, 15202, 15295, 15352, 15372, 15379, 15385, 15393, 15412,\n",
       "       15434, 15438, 15439, 15540, 15566, 15596, 15598, 16069, 16274,\n",
       "       16287, 16294, 16497, 16598, 16738, 16740, 16742, 16788, 16805,\n",
       "       16943, 17080, 17099, 17100, 17119, 17175, 17230, 17260, 17261,\n",
       "       17262, 17297, 17387, 17388, 17484, 17486, 17535, 17545, 17732,\n",
       "       17770, 17775, 17776, 17846, 17852, 17879, 17958, 17995, 18082,\n",
       "       18129, 18228, 18229, 18238, 18315, 18496, 18524, 18530, 18739,\n",
       "       18803, 18819, 18956, 18995, 19052, 19272, 19587, 19613],\n",
       "      dtype=int64)"
      ]
     },
     "execution_count": 20,
     "metadata": {},
     "output_type": "execute_result"
    }
   ],
   "source": [
    "elips_outliers #MUESTRA TODAS LAS VARIABLES QUE ESTAN MUY ALEJADAS"
   ]
  },
  {
   "cell_type": "code",
   "execution_count": 21,
   "id": "861ffbe6",
   "metadata": {},
   "outputs": [
    {
     "data": {
      "text/plain": [
       "array([  444,  1161,  1188,  1191,  1412,  1418,  1503,  1634,  1911,\n",
       "        1914,  2005,  2082,  2120,  2123,  2145,  2539,  2612,  2613,\n",
       "        2725,  2771,  2937,  3120,  3589,  4146,  4265,  4430,  4437,\n",
       "        4488,  4512,  4621,  4676,  4725,  5772,  5996,  5997,  6329,\n",
       "        6358,  6515,  7245,  7257,  7460,  7480,  7481,  7620,  7698,\n",
       "        7701,  7702,  7703,  7707,  7715,  8098,  8130,  8267,  8294,\n",
       "        8298,  8327,  8484,  8566,  8683,  8691,  8865,  8993,  9922,\n",
       "       10216, 10250, 10280, 10469, 10618, 10681, 10720, 10910, 11021,\n",
       "       11231, 11237, 11242, 11316, 11955, 12085, 12088, 12240, 12452,\n",
       "       12513, 12607, 12700, 12905, 12927, 12934, 13275, 13276, 13278,\n",
       "       14259, 14282, 14285, 14297, 14318, 14358, 14367, 14510, 14544,\n",
       "       14557, 14558, 14647, 14658, 14785, 14789, 14792, 14831, 14858,\n",
       "       14870, 14871, 14880, 14881, 14940, 14945, 14946, 14947, 14948,\n",
       "       14988, 15008, 15009, 15029, 15086, 15150, 15192, 15195, 15196,\n",
       "       15197, 15202, 15295, 15352, 15372, 15379, 15385, 15393, 15412,\n",
       "       15434, 15438, 15439, 15540, 15566, 15596, 15598, 16069, 16274,\n",
       "       16287, 16294, 16497, 16598, 16738, 16740, 16742, 16788, 16805,\n",
       "       16943, 17080, 17099, 17100, 17119, 17175, 17230, 17260, 17261,\n",
       "       17262, 17297, 17387, 17388, 17484, 17486, 17535, 17545, 17732,\n",
       "       17770, 17775, 17776, 17846, 17852, 17879, 17958, 17995, 18082,\n",
       "       18129, 18228, 18229, 18238, 18315, 18496, 18524, 18530, 18739,\n",
       "       18803, 18819, 18956, 18995, 19052, 19272, 19587, 19613],\n",
       "      dtype=int64)"
      ]
     },
     "execution_count": 21,
     "metadata": {},
     "output_type": "execute_result"
    }
   ],
   "source": [
    "elips_outliers"
   ]
  }
 ],
 "metadata": {
  "kernelspec": {
   "display_name": "Python 3 (ipykernel)",
   "language": "python",
   "name": "python3"
  },
  "language_info": {
   "codemirror_mode": {
    "name": "ipython",
    "version": 3
   },
   "file_extension": ".py",
   "mimetype": "text/x-python",
   "name": "python",
   "nbconvert_exporter": "python",
   "pygments_lexer": "ipython3",
   "version": "3.9.12"
  }
 },
 "nbformat": 4,
 "nbformat_minor": 5
}
