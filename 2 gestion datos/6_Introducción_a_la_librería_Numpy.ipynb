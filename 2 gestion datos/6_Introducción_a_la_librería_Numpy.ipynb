{
  "cells": [
    {
      "cell_type": "markdown",
      "metadata": {
        "id": "view-in-github",
        "colab_type": "text"
      },
      "source": [
        "<a href=\"https://colab.research.google.com/github/gitlogopolis/ciencia-de-datos/blob/main/6_Introducci%C3%B3n_a_la_librer%C3%ADa_Numpy.ipynb\" target=\"_parent\"><img src=\"https://colab.research.google.com/assets/colab-badge.svg\" alt=\"Open In Colab\"/></a>"
      ]
    },
    {
      "cell_type": "code",
      "execution_count": 1,
      "id": "559d5bf4",
      "metadata": {
        "id": "559d5bf4"
      },
      "outputs": [],
      "source": [
        "import numpy as np"
      ]
    },
    {
      "cell_type": "code",
      "execution_count": 2,
      "id": "7a1e91e8",
      "metadata": {
        "colab": {
          "base_uri": "https://localhost:8080/"
        },
        "id": "7a1e91e8",
        "outputId": "a343a75e-6338-4960-a40a-5ab5992a6700"
      },
      "outputs": [
        {
          "output_type": "execute_result",
          "data": {
            "text/plain": [
              "array([[8, 7, 8, 5],\n",
              "       [2, 6, 8, 1],\n",
              "       [8, 8, 9, 5]])"
            ]
          },
          "metadata": {},
          "execution_count": 2
        }
      ],
      "source": [
        "valoraciones = np.array([[8,7,8,5],[2,6,8,1],[8,8,9,5]])\n",
        "valoraciones"
      ]
    },
    {
      "cell_type": "code",
      "execution_count": 3,
      "id": "fb74ce99",
      "metadata": {
        "colab": {
          "base_uri": "https://localhost:8080/"
        },
        "id": "fb74ce99",
        "outputId": "4eeaa730-3e41-493b-ce4b-fa80d8a6486f"
      },
      "outputs": [
        {
          "output_type": "execute_result",
          "data": {
            "text/plain": [
              "7"
            ]
          },
          "metadata": {},
          "execution_count": 3
        }
      ],
      "source": [
        "valoraciones[0][1]"
      ]
    },
    {
      "cell_type": "code",
      "execution_count": 4,
      "id": "2aefcb7d",
      "metadata": {
        "colab": {
          "base_uri": "https://localhost:8080/"
        },
        "id": "2aefcb7d",
        "outputId": "df3b1247-4ab0-4bd5-ee88-ea9305ed12fb"
      },
      "outputs": [
        {
          "output_type": "execute_result",
          "data": {
            "text/plain": [
              "7"
            ]
          },
          "metadata": {},
          "execution_count": 4
        }
      ],
      "source": [
        "valoraciones[0,1]"
      ]
    },
    {
      "cell_type": "code",
      "execution_count": 5,
      "id": "22c93a00",
      "metadata": {
        "id": "22c93a00"
      },
      "outputs": [],
      "source": [
        "valoraciones2 = np.array([[[8,7,8,5],[2,5,5,2]],[[2,6,8,4],[8,9,7,4]],[[8,8,9,3],[10,9,10,8]]])"
      ]
    },
    {
      "cell_type": "code",
      "execution_count": 6,
      "id": "ad77f170",
      "metadata": {
        "colab": {
          "base_uri": "https://localhost:8080/"
        },
        "id": "ad77f170",
        "outputId": "b91b24f3-a5f6-406e-dce8-f344f590db67"
      },
      "outputs": [
        {
          "output_type": "execute_result",
          "data": {
            "text/plain": [
              "array([[[ 8,  7,  8,  5],\n",
              "        [ 2,  5,  5,  2]],\n",
              "\n",
              "       [[ 2,  6,  8,  4],\n",
              "        [ 8,  9,  7,  4]],\n",
              "\n",
              "       [[ 8,  8,  9,  3],\n",
              "        [10,  9, 10,  8]]])"
            ]
          },
          "metadata": {},
          "execution_count": 6
        }
      ],
      "source": [
        "valoraciones2 #tres clientes, dos años, cuatro productos"
      ]
    },
    {
      "cell_type": "code",
      "execution_count": 7,
      "id": "edec593a",
      "metadata": {
        "colab": {
          "base_uri": "https://localhost:8080/"
        },
        "id": "edec593a",
        "outputId": "3ebb3c30-b21c-4d57-f34e-15aac22fd679"
      },
      "outputs": [
        {
          "output_type": "execute_result",
          "data": {
            "text/plain": [
              "5"
            ]
          },
          "metadata": {},
          "execution_count": 7
        }
      ],
      "source": [
        "valoraciones2[0,1,2]"
      ]
    },
    {
      "cell_type": "code",
      "execution_count": 8,
      "id": "345cb0a0",
      "metadata": {
        "colab": {
          "base_uri": "https://localhost:8080/"
        },
        "id": "345cb0a0",
        "outputId": "c3b0e1ff-cfcd-4b7a-cb98-d7d9cc469bb9"
      },
      "outputs": [
        {
          "output_type": "execute_result",
          "data": {
            "text/plain": [
              "array([[[0., 0., 0., 0.],\n",
              "        [0., 0., 0., 0.]],\n",
              "\n",
              "       [[0., 0., 0., 0.],\n",
              "        [0., 0., 0., 0.]],\n",
              "\n",
              "       [[0., 0., 0., 0.],\n",
              "        [0., 0., 0., 0.]]])"
            ]
          },
          "metadata": {},
          "execution_count": 8
        }
      ],
      "source": [
        "np.zeros((3,2,4))  #Sirve para crear arreglos vacios"
      ]
    },
    {
      "cell_type": "code",
      "execution_count": 9,
      "id": "1e7d419a",
      "metadata": {
        "colab": {
          "base_uri": "https://localhost:8080/"
        },
        "id": "1e7d419a",
        "outputId": "fbaba979-24e3-478b-f162-2757caa6db58"
      },
      "outputs": [
        {
          "output_type": "execute_result",
          "data": {
            "text/plain": [
              "array([[[ 9.,  8.,  9.,  6.],\n",
              "        [ 3.,  6.,  6.,  3.]],\n",
              "\n",
              "       [[ 3.,  7.,  9.,  5.],\n",
              "        [ 9., 10.,  8.,  5.]],\n",
              "\n",
              "       [[ 9.,  9., 10.,  4.],\n",
              "        [11., 10., 11.,  9.]]])"
            ]
          },
          "metadata": {},
          "execution_count": 9
        }
      ],
      "source": [
        "valoraciones2 + np.ones((3,2,4)) #Agrega un uno a cada elemento de la matriz valoraciones2"
      ]
    },
    {
      "cell_type": "code",
      "execution_count": 10,
      "id": "c3f8546b",
      "metadata": {
        "colab": {
          "base_uri": "https://localhost:8080/"
        },
        "id": "c3f8546b",
        "outputId": "186ca81a-0a5a-4b09-ceaa-b3a65e86dca8"
      },
      "outputs": [
        {
          "output_type": "execute_result",
          "data": {
            "text/plain": [
              "6.458333333333333"
            ]
          },
          "metadata": {},
          "execution_count": 10
        }
      ],
      "source": [
        "np.mean(valoraciones2) #Podemos consultar la media de la matriz"
      ]
    },
    {
      "cell_type": "code",
      "execution_count": 11,
      "id": "86f8f3cc",
      "metadata": {
        "colab": {
          "base_uri": "https://localhost:8080/"
        },
        "id": "86f8f3cc",
        "outputId": "c33846c6-f53d-491d-c795-8365c8690475"
      },
      "outputs": [
        {
          "output_type": "execute_result",
          "data": {
            "text/plain": [
              "array([[6.        , 7.        , 8.33333333, 4.        ],\n",
              "       [6.66666667, 7.66666667, 7.33333333, 4.66666667]])"
            ]
          },
          "metadata": {},
          "execution_count": 11
        }
      ],
      "source": [
        "np.mean(valoraciones2, axis=0)   #Podemos obtener la media el eje 0 (Clientes)"
      ]
    },
    {
      "cell_type": "code",
      "execution_count": 12,
      "id": "d0bb22df",
      "metadata": {
        "colab": {
          "base_uri": "https://localhost:8080/"
        },
        "id": "d0bb22df",
        "outputId": "223cae6b-e982-44ae-8de2-fdff98aa56af"
      },
      "outputs": [
        {
          "output_type": "execute_result",
          "data": {
            "text/plain": [
              "array([[[ 1,  2],\n",
              "        [ 3,  4]],\n",
              "\n",
              "       [[ 5,  6],\n",
              "        [ 7,  8]],\n",
              "\n",
              "       [[ 9, 10],\n",
              "        [11, 12]]])"
            ]
          },
          "metadata": {},
          "execution_count": 12
        }
      ],
      "source": [
        "np.reshape([1,2,3,4,5,6,7,8,9,10,11,12],(3,2,2))  #Permite convertir una lista en las dimensiones que se deseen"
      ]
    },
    {
      "cell_type": "code",
      "execution_count": 13,
      "id": "f408294e",
      "metadata": {
        "colab": {
          "base_uri": "https://localhost:8080/"
        },
        "id": "f408294e",
        "outputId": "f16ea91f-e4c6-4904-d213-b9aba8ea4373"
      },
      "outputs": [
        {
          "output_type": "execute_result",
          "data": {
            "text/plain": [
              "array([[0.52885905, 0.59995407],\n",
              "       [0.681411  , 0.17621623]])"
            ]
          },
          "metadata": {},
          "execution_count": 13
        }
      ],
      "source": [
        "np.random.rand(2,2)  #Permite generar objetos aleatorios"
      ]
    }
  ],
  "metadata": {
    "kernelspec": {
      "display_name": "Python 3 (ipykernel)",
      "language": "python",
      "name": "python3"
    },
    "language_info": {
      "codemirror_mode": {
        "name": "ipython",
        "version": 3
      },
      "file_extension": ".py",
      "mimetype": "text/x-python",
      "name": "python",
      "nbconvert_exporter": "python",
      "pygments_lexer": "ipython3",
      "version": "3.9.12"
    },
    "colab": {
      "name": "6 Introducción a la librería Numpy.ipynb",
      "provenance": [],
      "include_colab_link": true
    }
  },
  "nbformat": 4,
  "nbformat_minor": 5
}
